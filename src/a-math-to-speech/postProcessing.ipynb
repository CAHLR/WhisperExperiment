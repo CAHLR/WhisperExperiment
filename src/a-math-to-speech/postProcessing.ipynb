{
 "cells": [
  {
   "cell_type": "code",
   "execution_count": 25,
   "metadata": {},
   "outputs": [],
   "source": [
    "import copy \n",
    "\n",
    "with open('finishedHints.txt', 'r') as file: \n",
    "    hints_ = file.readlines()\n",
    "    # hints = [hint.strip() for hint in hints]\n",
    "file.close()\n",
    "\n",
    "hints = copy.deepcopy(hints_)"
   ]
  },
  {
   "cell_type": "code",
   "execution_count": null,
   "metadata": {},
   "outputs": [],
   "source": [
    "remove_words = ['cap ','start param', 'end param', 'end fraction'\n",
    "                ]"
   ]
  },
  {
   "cell_type": "code",
   "execution_count": null,
   "metadata": {},
   "outputs": [],
   "source": [
    "hints_str = ' '.join(hints) # still seperated by \\n\n",
    "\n",
    "filtered_words = [hint.remove(remove_words) for hint in hints]"
   ]
  }
 ],
 "metadata": {
  "kernelspec": {
   "display_name": "Python 3",
   "language": "python",
   "name": "python3"
  },
  "language_info": {
   "codemirror_mode": {
    "name": "ipython",
    "version": 3
   },
   "file_extension": ".py",
   "mimetype": "text/x-python",
   "name": "python",
   "nbconvert_exporter": "python",
   "pygments_lexer": "ipython3",
   "version": "3.11.0"
  }
 },
 "nbformat": 4,
 "nbformat_minor": 2
}
